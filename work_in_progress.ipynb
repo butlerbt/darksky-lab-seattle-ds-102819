{
 "cells": [
  {
   "cell_type": "code",
   "execution_count": 166,
   "metadata": {},
   "outputs": [],
   "source": [
    "import sqlite3\n",
    "import requests\n",
    "import pandas as pd\n",
    "conn = sqlite3.connect('database.sqlite')"
   ]
  },
  {
   "cell_type": "code",
   "execution_count": 2,
   "metadata": {},
   "outputs": [],
   "source": [
    "c = conn.cursor()"
   ]
  },
  {
   "cell_type": "code",
   "execution_count": 11,
   "metadata": {},
   "outputs": [
    {
     "data": {
      "text/plain": [
       "[(22, 'D1', 2009, '2009-11-22', 'Bayern Munich', 'Leverkusen', 1, 1, 'D')]"
      ]
     },
     "execution_count": 11,
     "metadata": {},
     "output_type": "execute_result"
    }
   ],
   "source": [
    "c.execute('''\n",
    "SELECT * \n",
    "FROM Matches\n",
    "WHERE HomeTeam = 'Bayern Munich'\n",
    "LIMIT 1;''').fetchall()"
   ]
  },
  {
   "cell_type": "code",
   "execution_count": 17,
   "metadata": {},
   "outputs": [
    {
     "data": {
      "text/plain": [
       "[(128,)]"
      ]
     },
     "execution_count": 17,
     "metadata": {},
     "output_type": "execute_result"
    }
   ],
   "source": [
    "c.execute('''\n",
    "SELECT COUNT(DISTINCT(AwayTeam)) \n",
    "FROM Matches;''').fetchall()"
   ]
  },
  {
   "cell_type": "code",
   "execution_count": 160,
   "metadata": {},
   "outputs": [
    {
     "data": {
      "text/plain": [
       "[(1, 'D2', 2009, '2010-04-04', 'Oberhausen', 'Kaiserslautern', 2, 1, 'H'),\n",
       " (2, 'D2', 2009, '2009-11-01', 'Munich 1860', 'Kaiserslautern', 0, 1, 'A'),\n",
       " (3, 'D2', 2009, '2009-10-04', 'Frankfurt FSV', 'Kaiserslautern', 1, 1, 'D'),\n",
       " (4, 'D2', 2009, '2010-02-21', 'Frankfurt FSV', 'Karlsruhe', 2, 1, 'H'),\n",
       " (5, 'D2', 2009, '2009-12-06', 'Ahlen', 'Karlsruhe', 1, 3, 'A'),\n",
       " (6, 'D2', 2009, '2010-04-03', 'Union Berlin', 'Karlsruhe', 1, 1, 'D'),\n",
       " (7, 'D2', 2009, '2009-08-14', 'Paderborn', 'Karlsruhe', 2, 0, 'H'),\n",
       " (8, 'D2', 2009, '2010-03-08', 'Bielefeld', 'Karlsruhe', 0, 1, 'A'),\n",
       " (9, 'D2', 2009, '2009-09-26', 'Kaiserslautern', 'Karlsruhe', 2, 0, 'H'),\n",
       " (10, 'D2', 2009, '2009-11-21', 'Hansa Rostock', 'Karlsruhe', 2, 1, 'H'),\n",
       " (11, 'D2', 2009, '2009-12-19', 'Greuther Furth', 'Karlsruhe', 1, 4, 'A'),\n",
       " (12, 'D2', 2009, '2010-04-16', 'Koblenz', 'Karlsruhe', 2, 2, 'D'),\n",
       " (13, 'D2', 2009, '2010-03-21', 'Oberhausen', 'Karlsruhe', 1, 0, 'H'),\n",
       " (14, 'D2', 2009, '2009-09-14', 'Cottbus', 'Karlsruhe', 2, 4, 'A'),\n",
       " (15, 'D2', 2009, '2010-05-02', 'Duisburg', 'Karlsruhe', 0, 1, 'A'),\n",
       " (16, 'D2', 2009, '2009-10-30', 'Fortuna Dusseldorf', 'Karlsruhe', 1, 0, 'H'),\n",
       " (17, 'D2', 2009, '2010-01-15', 'Aachen', 'Karlsruhe', 3, 1, 'H'),\n",
       " (18, 'D2', 2009, '2009-10-18', 'Augsburg', 'Karlsruhe', 1, 1, 'D'),\n",
       " (19, 'D2', 2009, '2010-02-05', 'St Pauli', 'Karlsruhe', 2, 1, 'H'),\n",
       " (20, 'D2', 2009, '2009-08-24', 'Munich 1860', 'Karlsruhe', 1, 3, 'A'),\n",
       " (21, 'D1', 2009, '2010-02-06', 'Bochum', 'Leverkusen', 1, 1, 'D'),\n",
       " (22, 'D1', 2009, '2009-11-22', 'Bayern Munich', 'Leverkusen', 1, 1, 'D'),\n",
       " (23, 'D1', 2009, '2010-05-08', \"M'gladbach\", 'Leverkusen', 1, 1, 'D'),\n",
       " (24, 'D1', 2009, '2009-08-08', 'Mainz', 'Leverkusen', 2, 2, 'D'),\n",
       " (25, 'D1', 2009, '2009-10-17', 'Hamburg', 'Leverkusen', 0, 0, 'D'),\n",
       " (26, 'D1', 2009, '2010-04-17', 'Stuttgart', 'Leverkusen', 2, 1, 'H'),\n",
       " (27, 'D1', 2009, '2010-03-20', 'Dortmund', 'Leverkusen', 3, 0, 'H'),\n",
       " (28, 'D1', 2009, '2009-10-31', 'Schalke 04', 'Leverkusen', 2, 2, 'D'),\n",
       " (29, 'D1', 2009, '2009-08-22', 'Freiburg', 'Leverkusen', 0, 5, 'A'),\n",
       " (30, 'D1', 2009, '2010-02-21', 'Werder Bremen', 'Leverkusen', 2, 2, 'D'),\n",
       " (31, 'D1', 2009, '2009-12-11', 'Hertha', 'Leverkusen', 2, 2, 'D'),\n",
       " (32, 'D1', 2009, '2009-12-05', 'Hannover', 'Leverkusen', 0, 0, 'D'),\n",
       " (33, 'D1', 2009, '2010-04-03', 'Ein Frankfurt', 'Leverkusen', 3, 2, 'H'),\n",
       " (34, 'D1', 2009, '2009-09-12', 'Wolfsburg', 'Leverkusen', 2, 3, 'A'),\n",
       " (35, 'D1', 2009, '2010-01-24', 'Hoffenheim', 'Leverkusen', 0, 3, 'A'),\n",
       " (36, 'D1', 2009, '2009-09-26', 'FC Koln', 'Leverkusen', 0, 1, 'A'),\n",
       " (37, 'D1', 2009, '2010-03-07', 'Nurnberg', 'Leverkusen', 3, 2, 'H'),\n",
       " (38, 'D1', 2009, '2009-11-21', 'Wolfsburg', 'Nurnberg', 2, 3, 'A'),\n",
       " (39, 'D1', 2009, '2009-12-05', 'Dortmund', 'Nurnberg', 4, 0, 'H'),\n",
       " (40, 'D1', 2009, '2010-04-17', 'Freiburg', 'Nurnberg', 2, 1, 'H'),\n",
       " (41, 'D1', 2009, '2010-02-12', \"M'gladbach\", 'Nurnberg', 2, 1, 'H'),\n",
       " (42, 'D1', 2009, '2009-10-03', 'Leverkusen', 'Nurnberg', 4, 0, 'H'),\n",
       " (43, 'D1', 2009, '2010-01-17', 'Schalke 04', 'Nurnberg', 1, 0, 'H'),\n",
       " (44, 'D1', 2009, '2010-02-27', 'Bochum', 'Nurnberg', 0, 0, 'D'),\n",
       " (45, 'D1', 2009, '2010-01-30', 'Hannover', 'Nurnberg', 1, 3, 'A'),\n",
       " (46, 'D1', 2009, '2009-08-29', 'Stuttgart', 'Nurnberg', 0, 0, 'D'),\n",
       " (47, 'D1', 2009, '2009-11-07', 'Mainz', 'Nurnberg', 1, 0, 'H'),\n",
       " (48, 'D1', 2009, '2010-05-01', 'Hamburg', 'Nurnberg', 4, 0, 'H'),\n",
       " (49, 'D1', 2009, '2009-09-19', 'Bayern Munich', 'Nurnberg', 2, 1, 'H'),\n",
       " (50, 'D1', 2009, '2009-10-24', 'Hoffenheim', 'Nurnberg', 3, 0, 'H'),\n",
       " (51, 'D1', 2009, '2009-12-20', 'FC Koln', 'Nurnberg', 3, 0, 'H'),\n",
       " (52, 'D1', 2009, '2009-08-15', 'Ein Frankfurt', 'Nurnberg', 1, 1, 'D'),\n",
       " (53, 'D1', 2009, '2010-03-27', 'Werder Bremen', 'Nurnberg', 4, 2, 'H'),\n",
       " (54, 'D1', 2009, '2010-03-13', 'Hertha', 'Nurnberg', 1, 2, 'A'),\n",
       " (55, 'D1', 2009, '2009-09-13', 'FC Koln', 'Schalke 04', 1, 2, 'A'),\n",
       " (56, 'D1', 2009, '2009-11-28', \"M'gladbach\", 'Schalke 04', 1, 0, 'H'),\n",
       " (57, 'D1', 2009, '2009-11-07', 'Bayern Munich', 'Schalke 04', 1, 1, 'D'),\n",
       " (58, 'D1', 2009, '2010-02-06', 'Freiburg', 'Schalke 04', 0, 0, 'D'),\n",
       " (59, 'D1', 2009, '2009-08-08', 'Nurnberg', 'Schalke 04', 1, 2, 'A'),\n",
       " (60, 'D1', 2009, '2010-04-24', 'Hertha', 'Schalke 04', 0, 1, 'A'),\n",
       " (61, 'D1', 2009, '2009-12-12', 'Werder Bremen', 'Schalke 04', 0, 2, 'A'),\n",
       " (62, 'D1', 2009, '2010-05-08', 'Mainz', 'Schalke 04', 0, 0, 'D'),\n",
       " (63, 'D1', 2009, '2009-10-17', 'Stuttgart', 'Schalke 04', 1, 2, 'A'),\n",
       " (64, 'D1', 2009, '2010-03-21', 'Hamburg', 'Schalke 04', 2, 2, 'D'),\n",
       " (65, 'D1', 2009, '2010-01-23', 'Bochum', 'Schalke 04', 2, 2, 'D'),\n",
       " (66, 'D1', 2009, '2010-03-06', 'Ein Frankfurt', 'Schalke 04', 1, 4, 'A'),\n",
       " (67, 'D1', 2009, '2009-09-26', 'Dortmund', 'Schalke 04', 0, 1, 'A'),\n",
       " (68, 'D1', 2009, '2010-02-21', 'Wolfsburg', 'Schalke 04', 2, 1, 'H'),\n",
       " (69, 'D1', 2009, '2010-03-27', 'Leverkusen', 'Schalke 04', 0, 2, 'A'),\n",
       " (70, 'D1', 2009, '2009-08-21', 'Hoffenheim', 'Schalke 04', 0, 0, 'D'),\n",
       " (71, 'D1', 2009, '2010-04-10', 'Hannover', 'Schalke 04', 4, 2, 'H'),\n",
       " (72, 'D1', 2009, '2009-10-24', 'Hannover', 'Stuttgart', 1, 0, 'H'),\n",
       " (73, 'D1', 2009, '2010-04-10', 'Hertha', 'Stuttgart', 0, 1, 'A'),\n",
       " (74, 'D1', 2009, '2010-05-08', 'Hoffenheim', 'Stuttgart', 1, 1, 'D'),\n",
       " (75, 'D1', 2009, '2009-09-12', 'Hamburg', 'Stuttgart', 3, 1, 'H'),\n",
       " (76, 'D1', 2009, '2009-08-22', 'Dortmund', 'Stuttgart', 1, 1, 'D'),\n",
       " (77, 'D1', 2009, '2010-03-06', 'Werder Bremen', 'Stuttgart', 2, 2, 'D'),\n",
       " (78, 'D1', 2009, '2010-03-27', 'Bayern Munich', 'Stuttgart', 1, 2, 'A'),\n",
       " (79, 'D1', 2009, '2010-03-12', 'Schalke 04', 'Stuttgart', 2, 1, 'H'),\n",
       " (80, 'D1', 2009, '2010-04-23', 'Bochum', 'Stuttgart', 0, 2, 'A'),\n",
       " (81, 'D1', 2009, '2009-08-07', 'Wolfsburg', 'Stuttgart', 2, 0, 'H'),\n",
       " (82, 'D1', 2009, '2009-09-26', 'Ein Frankfurt', 'Stuttgart', 0, 3, 'A'),\n",
       " (83, 'D1', 2009, '2010-02-06', 'Nurnberg', 'Stuttgart', 1, 2, 'A'),\n",
       " (84, 'D1', 2009, '2010-02-20', 'FC Koln', 'Stuttgart', 1, 5, 'A'),\n",
       " (85, 'D1', 2009, '2009-11-07', \"M'gladbach\", 'Stuttgart', 0, 0, 'D'),\n",
       " (86, 'D1', 2009, '2010-01-22', 'Freiburg', 'Stuttgart', 0, 1, 'A'),\n",
       " (87, 'D1', 2009, '2009-11-29', 'Leverkusen', 'Stuttgart', 4, 0, 'H'),\n",
       " (88, 'D1', 2009, '2009-12-13', 'Mainz', 'Stuttgart', 1, 1, 'D'),\n",
       " (89, 'D1', 2009, '2009-09-20', 'Leverkusen', 'Werder Bremen', 0, 0, 'D'),\n",
       " (90, 'D1', 2009, '2009-08-30', 'Hertha', 'Werder Bremen', 2, 3, 'A'),\n",
       " (91, 'D1', 2009, '2009-12-06', 'FC Koln', 'Werder Bremen', 0, 0, 'D'),\n",
       " (92, 'D1', 2009, '2010-02-27', 'Mainz', 'Werder Bremen', 1, 2, 'A'),\n",
       " (93, 'D1', 2009, '2010-02-13', 'Hannover', 'Werder Bremen', 1, 5, 'A'),\n",
       " (94, 'D1', 2009, '2010-03-14', 'Hoffenheim', 'Werder Bremen', 0, 1, 'A'),\n",
       " (95, 'D1', 2009, '2009-11-21', 'Freiburg', 'Werder Bremen', 0, 6, 'A'),\n",
       " (96, 'D1', 2009, '2010-04-03', 'Dortmund', 'Werder Bremen', 2, 1, 'H'),\n",
       " (97, 'D1', 2009, '2010-04-17', 'Wolfsburg', 'Werder Bremen', 2, 4, 'A'),\n",
       " (98, 'D1', 2009, '2010-05-01', 'Schalke 04', 'Werder Bremen', 0, 2, 'A'),\n",
       " (99, 'D1', 2009, '2009-10-04', 'Stuttgart', 'Werder Bremen', 0, 2, 'A'),\n",
       " (100, 'D1', 2009, '2009-08-15', 'Bayern Munich', 'Werder Bremen', 1, 1, 'D')]"
      ]
     },
     "execution_count": 160,
     "metadata": {},
     "output_type": "execute_result"
    }
   ],
   "source": [
    "c.execute('''\n",
    "SELECT * \n",
    "FROM Matches\n",
    "LIMIT 100;''').fetchall()"
   ]
  },
  {
   "cell_type": "code",
   "execution_count": 33,
   "metadata": {},
   "outputs": [
    {
     "data": {
      "text/plain": [
       "[(4152, 'D1', 2016, '2017-04-04', 'Hoffenheim', 'Bayern Munich', 1, 0, 'H')]"
      ]
     },
     "execution_count": 33,
     "metadata": {},
     "output_type": "execute_result"
    }
   ],
   "source": [
    "c.execute('''\n",
    "SELECT * \n",
    "FROM Matches\n",
    "WHERE Season = 2016 OR Season = 2017 AND Div != 'D2'\n",
    "LIMIT 1;''').fetchall()"
   ]
  },
  {
   "cell_type": "code",
   "execution_count": 51,
   "metadata": {},
   "outputs": [
    {
     "data": {
      "text/plain": [
       "[]"
      ]
     },
     "execution_count": 51,
     "metadata": {},
     "output_type": "execute_result"
    }
   ],
   "source": [
    "#sum of home goals\n",
    "c.execute('''\n",
    "CREATE TABLE home_goals AS\n",
    "SELECT HomeTeam, SUM(FTHG), Div, Season \n",
    "FROM Matches\n",
    "WHERE Season = 2011 AND Div != 'D2'\n",
    "GROUP BY(HomeTeam);''').fetchall()"
   ]
  },
  {
   "cell_type": "code",
   "execution_count": 52,
   "metadata": {
    "scrolled": true
   },
   "outputs": [
    {
     "data": {
      "text/plain": [
       "[]"
      ]
     },
     "execution_count": 52,
     "metadata": {},
     "output_type": "execute_result"
    }
   ],
   "source": [
    "#sum of away goals\n",
    "c.execute('''\n",
    "CREATE TABLE away_goals AS\n",
    "SELECT AwayTeam, SUM(FTAG), Div, Season \n",
    "FROM Matches\n",
    "WHERE Season = 2011 AND Div != 'D2'\n",
    "GROUP BY(AwayTeam);''').fetchall()"
   ]
  },
  {
   "cell_type": "code",
   "execution_count": 130,
   "metadata": {},
   "outputs": [
    {
     "data": {
      "text/plain": [
       "[]"
      ]
     },
     "execution_count": 130,
     "metadata": {},
     "output_type": "execute_result"
    }
   ],
   "source": [
    "#this joins away and home goal tables to sum 2011 season goals\n",
    "c.execute(''' \n",
    "CREATE TABLE total_goals_2011 AS\n",
    "SELECT h.HomeTeam AS TeamName, h.Div, h.Season, a.'SUM(FTAG)' + h.'SUM(FTHG)' AS Total_Goals\n",
    "FROM away_goals a\n",
    "JOIN home_goals h ON (a.AwayTeam = h.HomeTeam);''').fetchall()"
   ]
  },
  {
   "cell_type": "code",
   "execution_count": 119,
   "metadata": {},
   "outputs": [
    {
     "data": {
      "text/plain": [
       "[]"
      ]
     },
     "execution_count": 119,
     "metadata": {},
     "output_type": "execute_result"
    }
   ],
   "source": [
    "# 2011 Home Wins\n",
    "\n",
    "c.execute('''\n",
    "CREATE TABLE home_win_2011 AS\n",
    "SELECT TeamName, goals_2011.Season, goals_2011.Div, SUM(CASE WHEN (goals_2011.TeamName = Matches.HomeTeam AND Matches.FTR = 'H')\n",
    "            THEN 1 \n",
    "            ELSE 0\n",
    "            END) AS HomeWins\n",
    "    FROM Matches\n",
    "    JOIN goals_2011 ON (goals_2011.TeamName = Matches.HomeTeam)\n",
    "    WHERE Matches.Season = 2011 AND Matches.Div != 'D2'\n",
    "    GROUP BY goals_2011.TeamName;''').fetchall()\n",
    "\n",
    "    "
   ]
  },
  {
   "cell_type": "code",
   "execution_count": 120,
   "metadata": {},
   "outputs": [
    {
     "data": {
      "text/plain": [
       "[]"
      ]
     },
     "execution_count": 120,
     "metadata": {},
     "output_type": "execute_result"
    }
   ],
   "source": [
    "c.execute('''\n",
    "CREATE TABLE away_win_2011 AS\n",
    "SELECT TeamName, goals_2011.Season, goals_2011.Div, SUM(CASE WHEN (goals_2011.TeamName = Matches.AwayTeam AND Matches.FTR = 'A')\n",
    "            THEN 1 \n",
    "            ELSE 0\n",
    "            END) AS AwayWins\n",
    "    FROM Matches\n",
    "    JOIN goals_2011 ON (goals_2011.TeamName = Matches.AwayTeam)\n",
    "    WHERE Matches.Season = 2011 AND Matches.Div != 'D2'\n",
    "    GROUP BY goals_2011.TeamName;''').fetchall()"
   ]
  },
  {
   "cell_type": "code",
   "execution_count": 132,
   "metadata": {},
   "outputs": [
    {
     "data": {
      "text/plain": [
       "[]"
      ]
     },
     "execution_count": 132,
     "metadata": {},
     "output_type": "execute_result"
    }
   ],
   "source": [
    "#this joins away and home win tables to sum 2011 season goals\n",
    "c.execute(''' \n",
    "CREATE TABLE Team_Stats_2011 AS\n",
    "SELECT TeamName, g.Div, g.Season, Total_Goals, AwayWins+HomeWins AS Total_Wins\n",
    "FROM total_goals_2011 g\n",
    "JOIN home_win_2011 USING (TeamName)\n",
    "JOIN away_win_2011 USING (TeamName);''').fetchall()"
   ]
  },
  {
   "cell_type": "code",
   "execution_count": 281,
   "metadata": {},
   "outputs": [],
   "source": [
    "df_team_stats_2011 = pd.read_sql_query('''SELECT TeamName, g.Div, g.Season, Total_Goals, AwayWins+HomeWins AS Total_Wins\n",
    "FROM total_goals_2011 g\n",
    "JOIN home_win_2011 USING (TeamName)\n",
    "JOIN away_win_2011 USING (TeamName);''', conn)"
   ]
  },
  {
   "cell_type": "code",
   "execution_count": 142,
   "metadata": {},
   "outputs": [],
   "source": [
    "import json\n",
    "\n",
    "def get_keys(path):\n",
    "    with open(path) as f:\n",
    "        return json.load(f)\n",
    "\n",
    "keys = get_keys(\".secret/darksky_api.json\")\n",
    "\n",
    "api_key = keys['api_key']"
   ]
  },
  {
   "cell_type": "code",
   "execution_count": 156,
   "metadata": {},
   "outputs": [],
   "source": [
    "date = '2018-06-11'\n",
    "response = requests.get('https://api.darksky.net/forecast/'+api_key+'/52.520008,13.404954,'+date+'T12:00:00?exclude=hourly,currently,flags') \n",
    "if response.status_code == 200: #200 is an HTTP status code that means \"everything is ok\". ITs good to check the status_code in an if statement to avoid throwing and error\n",
    "    response_dict = response.json()\n",
    "else:\n",
    "    print(\"Error: unable to retrieve books.  Server responded with status code\", response.status_code)\n"
   ]
  },
  {
   "cell_type": "code",
   "execution_count": 164,
   "metadata": {},
   "outputs": [
    {
     "data": {
      "text/plain": [
       "[(1092, 'D1', 2011, '2012-03-31', 'Nurnberg', 'Bayern Munich', 0, 1, 'A'),\n",
       " (1093, 'D1', 2011, '2011-12-11', 'Stuttgart', 'Bayern Munich', 1, 2, 'A'),\n",
       " (1094, 'D1', 2011, '2011-08-13', 'Wolfsburg', 'Bayern Munich', 0, 1, 'A'),\n",
       " (1095, 'D1', 2011, '2011-11-27', 'Mainz', 'Bayern Munich', 3, 2, 'H'),\n",
       " (1096, 'D1', 2011, '2012-02-18', 'Freiburg', 'Bayern Munich', 0, 0, 'D')]"
      ]
     },
     "execution_count": 164,
     "metadata": {},
     "output_type": "execute_result"
    }
   ],
   "source": [
    "c.execute('''\n",
    "SELECT * \n",
    "FROM Matches\n",
    "WHERE Season = 2011 AND Div != 'D2'\n",
    "LIMIT 5;''').fetchall()"
   ]
  },
  {
   "cell_type": "code",
   "execution_count": 258,
   "metadata": {},
   "outputs": [],
   "source": [
    "match_df = pd.read_sql_query(\"select * from Matches WHERE Season = 2011 AND Div != 'D2'\", conn)\n",
    "unique_match_date = match_df['Date'].unique()"
   ]
  },
  {
   "cell_type": "code",
   "execution_count": 215,
   "metadata": {},
   "outputs": [],
   "source": [
    "# alternate approach\n",
    "# weather_dates = {}\n",
    "# for date in unique_match_date[0:2]:\n",
    "#     response = requests.get('https://api.darksky.net/forecast/'+api_key+'/52.520008,13.404954,'+date+'T12:00:00?exclude=hourly,currently,flags') \n",
    "#     if response.status_code == 200: #200 is an HTTP status code that means \"everything is ok\". ITs good to check the status_code in an if statement to avoid throwing and error\n",
    "#         response_dict = response.json()\n",
    "#         icon = response_dict['daily']['data'][0]['icon']\n",
    "#         weather_dates[date] = icon\n",
    "        \n",
    "#     else:\n",
    "#         print(\"Error: unable to retrieve books.  Server responded with status code\", response.status_code)\n",
    "    \n",
    "\n"
   ]
  },
  {
   "cell_type": "code",
   "execution_count": 216,
   "metadata": {},
   "outputs": [
    {
     "data": {
      "text/plain": [
       "{'2012-03-31': 'rain', '2011-12-11': 'partly-cloudy-day'}"
      ]
     },
     "execution_count": 216,
     "metadata": {},
     "output_type": "execute_result"
    }
   ],
   "source": [
    "weather_dates"
   ]
  },
  {
   "cell_type": "code",
   "execution_count": 259,
   "metadata": {},
   "outputs": [],
   "source": [
    "weather_dates = []\n",
    "for date in unique_match_date[0:5]:\n",
    "    date_icon = {}\n",
    "    response = requests.get('https://api.darksky.net/forecast/'+api_key+'/52.520008,13.404954,'+date+'T12:00:00?exclude=hourly,currently,flags') \n",
    "    if response.status_code == 200: #200 is an HTTP status code that means \"everything is ok\". ITs good to check the status_code in an if statement to avoid throwing and error\n",
    "        response_dict = response.json()\n",
    "        date_icon['Icon'] = response_dict['daily']['data'][0]['icon']\n",
    "        date_icon['Date'] = date\n",
    "        weather_dates.append(date_icon)\n",
    "    else:\n",
    "        print(\"Error: unable to retrieve books.  Server responded with status code\", response.status_code)"
   ]
  },
  {
   "cell_type": "code",
   "execution_count": 271,
   "metadata": {},
   "outputs": [
    {
     "data": {
      "text/html": [
       "<div>\n",
       "<style scoped>\n",
       "    .dataframe tbody tr th:only-of-type {\n",
       "        vertical-align: middle;\n",
       "    }\n",
       "\n",
       "    .dataframe tbody tr th {\n",
       "        vertical-align: top;\n",
       "    }\n",
       "\n",
       "    .dataframe thead th {\n",
       "        text-align: right;\n",
       "    }\n",
       "</style>\n",
       "<table border=\"1\" class=\"dataframe\">\n",
       "  <thead>\n",
       "    <tr style=\"text-align: right;\">\n",
       "      <th></th>\n",
       "      <th>Date</th>\n",
       "      <th>Icon</th>\n",
       "    </tr>\n",
       "  </thead>\n",
       "  <tbody>\n",
       "    <tr>\n",
       "      <th>0</th>\n",
       "      <td>2012-03-31</td>\n",
       "      <td>rain</td>\n",
       "    </tr>\n",
       "    <tr>\n",
       "      <th>1</th>\n",
       "      <td>2011-12-11</td>\n",
       "      <td>partly-cloudy-day</td>\n",
       "    </tr>\n",
       "    <tr>\n",
       "      <th>2</th>\n",
       "      <td>2011-08-13</td>\n",
       "      <td>partly-cloudy-day</td>\n",
       "    </tr>\n",
       "    <tr>\n",
       "      <th>3</th>\n",
       "      <td>2011-11-27</td>\n",
       "      <td>partly-cloudy-day</td>\n",
       "    </tr>\n",
       "    <tr>\n",
       "      <th>4</th>\n",
       "      <td>2012-02-18</td>\n",
       "      <td>partly-cloudy-day</td>\n",
       "    </tr>\n",
       "  </tbody>\n",
       "</table>\n",
       "</div>"
      ],
      "text/plain": [
       "         Date               Icon\n",
       "0  2012-03-31               rain\n",
       "1  2011-12-11  partly-cloudy-day\n",
       "2  2011-08-13  partly-cloudy-day\n",
       "3  2011-11-27  partly-cloudy-day\n",
       "4  2012-02-18  partly-cloudy-day"
      ]
     },
     "execution_count": 271,
     "metadata": {},
     "output_type": "execute_result"
    }
   ],
   "source": [
    "df_weather = pd.DataFrame(weather_dates)\n",
    "df_weather.head()"
   ]
  },
  {
   "cell_type": "code",
   "execution_count": 272,
   "metadata": {},
   "outputs": [],
   "source": [
    "joined_weather_match = match_df.merge(df_weather, on='Date')"
   ]
  },
  {
   "cell_type": "code",
   "execution_count": 276,
   "metadata": {},
   "outputs": [
    {
     "data": {
      "text/html": [
       "<div>\n",
       "<style scoped>\n",
       "    .dataframe tbody tr th:only-of-type {\n",
       "        vertical-align: middle;\n",
       "    }\n",
       "\n",
       "    .dataframe tbody tr th {\n",
       "        vertical-align: top;\n",
       "    }\n",
       "\n",
       "    .dataframe thead th {\n",
       "        text-align: right;\n",
       "    }\n",
       "</style>\n",
       "<table border=\"1\" class=\"dataframe\">\n",
       "  <thead>\n",
       "    <tr style=\"text-align: right;\">\n",
       "      <th></th>\n",
       "      <th>Match_ID</th>\n",
       "      <th>Div</th>\n",
       "      <th>Season</th>\n",
       "      <th>Date</th>\n",
       "      <th>HomeTeam</th>\n",
       "      <th>AwayTeam</th>\n",
       "      <th>FTHG</th>\n",
       "      <th>FTAG</th>\n",
       "      <th>FTR</th>\n",
       "      <th>Icon</th>\n",
       "    </tr>\n",
       "  </thead>\n",
       "  <tbody>\n",
       "    <tr>\n",
       "      <th>0</th>\n",
       "      <td>1092</td>\n",
       "      <td>D1</td>\n",
       "      <td>2011</td>\n",
       "      <td>2012-03-31</td>\n",
       "      <td>Nurnberg</td>\n",
       "      <td>Bayern Munich</td>\n",
       "      <td>0</td>\n",
       "      <td>1</td>\n",
       "      <td>A</td>\n",
       "      <td>rain</td>\n",
       "    </tr>\n",
       "    <tr>\n",
       "      <th>1</th>\n",
       "      <td>1189</td>\n",
       "      <td>D1</td>\n",
       "      <td>2011</td>\n",
       "      <td>2012-03-31</td>\n",
       "      <td>Augsburg</td>\n",
       "      <td>FC Koln</td>\n",
       "      <td>2</td>\n",
       "      <td>1</td>\n",
       "      <td>H</td>\n",
       "      <td>rain</td>\n",
       "    </tr>\n",
       "    <tr>\n",
       "      <th>2</th>\n",
       "      <td>1206</td>\n",
       "      <td>D1</td>\n",
       "      <td>2011</td>\n",
       "      <td>2012-03-31</td>\n",
       "      <td>Leverkusen</td>\n",
       "      <td>Freiburg</td>\n",
       "      <td>0</td>\n",
       "      <td>2</td>\n",
       "      <td>A</td>\n",
       "      <td>rain</td>\n",
       "    </tr>\n",
       "    <tr>\n",
       "      <th>3</th>\n",
       "      <td>1215</td>\n",
       "      <td>D1</td>\n",
       "      <td>2011</td>\n",
       "      <td>2012-03-31</td>\n",
       "      <td>Kaiserslautern</td>\n",
       "      <td>Hamburg</td>\n",
       "      <td>0</td>\n",
       "      <td>1</td>\n",
       "      <td>A</td>\n",
       "      <td>rain</td>\n",
       "    </tr>\n",
       "    <tr>\n",
       "      <th>4</th>\n",
       "      <td>1420</td>\n",
       "      <td>D1</td>\n",
       "      <td>2011</td>\n",
       "      <td>2012-03-31</td>\n",
       "      <td>Werder Bremen</td>\n",
       "      <td>Mainz</td>\n",
       "      <td>0</td>\n",
       "      <td>3</td>\n",
       "      <td>A</td>\n",
       "      <td>rain</td>\n",
       "    </tr>\n",
       "    <tr>\n",
       "      <th>5</th>\n",
       "      <td>1475</td>\n",
       "      <td>D1</td>\n",
       "      <td>2011</td>\n",
       "      <td>2012-03-31</td>\n",
       "      <td>Hertha</td>\n",
       "      <td>Wolfsburg</td>\n",
       "      <td>1</td>\n",
       "      <td>4</td>\n",
       "      <td>A</td>\n",
       "      <td>rain</td>\n",
       "    </tr>\n",
       "    <tr>\n",
       "      <th>6</th>\n",
       "      <td>44794</td>\n",
       "      <td>E0</td>\n",
       "      <td>2011</td>\n",
       "      <td>2012-03-31</td>\n",
       "      <td>Aston Villa</td>\n",
       "      <td>Chelsea</td>\n",
       "      <td>2</td>\n",
       "      <td>4</td>\n",
       "      <td>A</td>\n",
       "      <td>rain</td>\n",
       "    </tr>\n",
       "    <tr>\n",
       "      <th>7</th>\n",
       "      <td>44795</td>\n",
       "      <td>E0</td>\n",
       "      <td>2011</td>\n",
       "      <td>2012-03-31</td>\n",
       "      <td>Everton</td>\n",
       "      <td>West Brom</td>\n",
       "      <td>2</td>\n",
       "      <td>0</td>\n",
       "      <td>H</td>\n",
       "      <td>rain</td>\n",
       "    </tr>\n",
       "    <tr>\n",
       "      <th>8</th>\n",
       "      <td>44796</td>\n",
       "      <td>E0</td>\n",
       "      <td>2011</td>\n",
       "      <td>2012-03-31</td>\n",
       "      <td>Fulham</td>\n",
       "      <td>Norwich</td>\n",
       "      <td>2</td>\n",
       "      <td>1</td>\n",
       "      <td>H</td>\n",
       "      <td>rain</td>\n",
       "    </tr>\n",
       "    <tr>\n",
       "      <th>9</th>\n",
       "      <td>44797</td>\n",
       "      <td>E0</td>\n",
       "      <td>2011</td>\n",
       "      <td>2012-03-31</td>\n",
       "      <td>Man City</td>\n",
       "      <td>Sunderland</td>\n",
       "      <td>3</td>\n",
       "      <td>3</td>\n",
       "      <td>D</td>\n",
       "      <td>rain</td>\n",
       "    </tr>\n",
       "  </tbody>\n",
       "</table>\n",
       "</div>"
      ],
      "text/plain": [
       "   Match_ID Div  Season        Date        HomeTeam       AwayTeam  FTHG  \\\n",
       "0      1092  D1    2011  2012-03-31        Nurnberg  Bayern Munich     0   \n",
       "1      1189  D1    2011  2012-03-31        Augsburg        FC Koln     2   \n",
       "2      1206  D1    2011  2012-03-31      Leverkusen       Freiburg     0   \n",
       "3      1215  D1    2011  2012-03-31  Kaiserslautern        Hamburg     0   \n",
       "4      1420  D1    2011  2012-03-31   Werder Bremen          Mainz     0   \n",
       "5      1475  D1    2011  2012-03-31          Hertha      Wolfsburg     1   \n",
       "6     44794  E0    2011  2012-03-31     Aston Villa        Chelsea     2   \n",
       "7     44795  E0    2011  2012-03-31         Everton      West Brom     2   \n",
       "8     44796  E0    2011  2012-03-31          Fulham        Norwich     2   \n",
       "9     44797  E0    2011  2012-03-31        Man City     Sunderland     3   \n",
       "\n",
       "   FTAG FTR  Icon  \n",
       "0     1   A  rain  \n",
       "1     1   H  rain  \n",
       "2     2   A  rain  \n",
       "3     1   A  rain  \n",
       "4     3   A  rain  \n",
       "5     4   A  rain  \n",
       "6     4   A  rain  \n",
       "7     0   H  rain  \n",
       "8     1   H  rain  \n",
       "9     3   D  rain  "
      ]
     },
     "execution_count": 276,
     "metadata": {},
     "output_type": "execute_result"
    }
   ],
   "source": [
    "joined_weather_match.head(10)"
   ]
  },
  {
   "cell_type": "code",
   "execution_count": 302,
   "metadata": {},
   "outputs": [
    {
     "ename": "SyntaxError",
     "evalue": "unexpected EOF while parsing (<ipython-input-302-c961d236c9ff>, line 3)",
     "output_type": "error",
     "traceback": [
      "\u001b[0;36m  File \u001b[0;32m\"<ipython-input-302-c961d236c9ff>\"\u001b[0;36m, line \u001b[0;32m3\u001b[0m\n\u001b[0;31m    if (i == team)and (joined_weather_match['Icon'] == 'rain'):\u001b[0m\n\u001b[0m                                                               ^\u001b[0m\n\u001b[0;31mSyntaxError\u001b[0m\u001b[0;31m:\u001b[0m unexpected EOF while parsing\n"
     ]
    }
   ],
   "source": [
    "for team in df_team_stats_2011[\"TeamName\"]:\n",
    "    for i in joined_weather_match['HomeTeam']:\n",
    "        if (i == team)and (joined_weather_match['Icon'] == 'rain'):\n"
   ]
  },
  {
   "cell_type": "code",
   "execution_count": 304,
   "metadata": {},
   "outputs": [
    {
     "ename": "ValueError",
     "evalue": "The truth value of a Series is ambiguous. Use a.empty, a.bool(), a.item(), a.any() or a.all().",
     "output_type": "error",
     "traceback": [
      "\u001b[0;31m---------------------------------------------------------------------------\u001b[0m",
      "\u001b[0;31mValueError\u001b[0m                                Traceback (most recent call last)",
      "\u001b[0;32m<ipython-input-304-cde01713cd58>\u001b[0m in \u001b[0;36m<module>\u001b[0;34m()\u001b[0m\n\u001b[0;32m----> 1\u001b[0;31m \u001b[0mjoined_weather_match\u001b[0m\u001b[0;34m[\u001b[0m\u001b[0;34m'Winner'\u001b[0m\u001b[0;34m]\u001b[0m\u001b[0;34m=\u001b[0m \u001b[0mjoined_weather_match\u001b[0m\u001b[0;34m[\u001b[0m\u001b[0;34m'HomeTeam'\u001b[0m\u001b[0;34m]\u001b[0m \u001b[0;32mif\u001b[0m \u001b[0mjoined_weather_match\u001b[0m\u001b[0;34m[\u001b[0m\u001b[0;34m'FTR'\u001b[0m\u001b[0;34m]\u001b[0m\u001b[0;34m==\u001b[0m\u001b[0;34m'H'\u001b[0m \u001b[0;32melse\u001b[0m \u001b[0mjoined_weather_match\u001b[0m\u001b[0;34m[\u001b[0m\u001b[0;34m'AwayTeam'\u001b[0m\u001b[0;34m]\u001b[0m\u001b[0;34m\u001b[0m\u001b[0m\n\u001b[0m",
      "\u001b[0;32m~/anaconda3/envs/learn-env/lib/python3.6/site-packages/pandas/core/generic.py\u001b[0m in \u001b[0;36m__nonzero__\u001b[0;34m(self)\u001b[0m\n\u001b[1;32m   1574\u001b[0m         raise ValueError(\"The truth value of a {0} is ambiguous. \"\n\u001b[1;32m   1575\u001b[0m                          \u001b[0;34m\"Use a.empty, a.bool(), a.item(), a.any() or a.all().\"\u001b[0m\u001b[0;34m\u001b[0m\u001b[0m\n\u001b[0;32m-> 1576\u001b[0;31m                          .format(self.__class__.__name__))\n\u001b[0m\u001b[1;32m   1577\u001b[0m \u001b[0;34m\u001b[0m\u001b[0m\n\u001b[1;32m   1578\u001b[0m     \u001b[0m__bool__\u001b[0m \u001b[0;34m=\u001b[0m \u001b[0m__nonzero__\u001b[0m\u001b[0;34m\u001b[0m\u001b[0m\n",
      "\u001b[0;31mValueError\u001b[0m: The truth value of a Series is ambiguous. Use a.empty, a.bool(), a.item(), a.any() or a.all()."
     ]
    }
   ],
   "source": [
    "joined_weather_match['Winner'].map(lambda x: joined_weather_match[] ) \n"
   ]
  },
  {
   "cell_type": "code",
   "execution_count": null,
   "metadata": {},
   "outputs": [],
   "source": []
  }
 ],
 "metadata": {
  "kernelspec": {
   "display_name": "learn-env",
   "language": "python",
   "name": "learn-env"
  },
  "language_info": {
   "codemirror_mode": {
    "name": "ipython",
    "version": 3
   },
   "file_extension": ".py",
   "mimetype": "text/x-python",
   "name": "python",
   "nbconvert_exporter": "python",
   "pygments_lexer": "ipython3",
   "version": "3.6.6"
  }
 },
 "nbformat": 4,
 "nbformat_minor": 2
}
